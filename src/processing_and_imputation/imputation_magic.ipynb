{
 "cells": [
  {
   "cell_type": "markdown",
   "metadata": {},
   "source": [
    "# Processing and Imputation\n",
    "The purpose of this Jupyter Notebook is to run the same preprocessing steps and MAGIC imputation on all 7 files from Farhadian, 2018."
   ]
  },
  {
   "cell_type": "markdown",
   "metadata": {},
   "source": [
    "### Part 0: Importing Packages"
   ]
  },
  {
   "cell_type": "code",
   "execution_count": 1,
   "metadata": {},
   "outputs": [],
   "source": [
    "# import statements\n",
    "import magic\n",
    "import scprep\n",
    "\n",
    "import numpy as np\n",
    "import pandas as pd\n",
    "import matplotlib\n",
    "import matplotlib.pyplot as plt\n",
    "%matplotlib inline\n",
    "\n",
    "import gzip\n",
    "import csv\n",
    "\n",
    "from sklearn.manifold import TSNE\n",
    "from scprep.io.csv import load_csv"
   ]
  },
  {
   "cell_type": "markdown",
   "metadata": {},
   "source": [
    "### Part 1: Locating Data"
   ]
  },
  {
   "cell_type": "code",
   "execution_count": 2,
   "metadata": {},
   "outputs": [],
   "source": [
    "path = '../../data/raw_data/'\n",
    "file_names = ['HIV1_Bld.csv', 'HIV1_CSF.csv', 'HIV2_Bld.csv', 'HIV2_CSF.csv','HIV3_CSF.csv', 'Uninfected1_CSF.csv', 'Uninfected2_CSF.csv']"
   ]
  },
  {
   "cell_type": "markdown",
   "metadata": {},
   "source": [
    "### Part 2: Filtering and Performing MAGIC"
   ]
  },
  {
   "cell_type": "code",
   "execution_count": 5,
   "metadata": {},
   "outputs": [
    {
     "name": "stdout",
     "output_type": "stream",
     "text": [
      "HIV1_Bld.csv\n",
      "Calculating MAGIC...\n",
      "  Running MAGIC on 1669 cells and 22935 genes.\n",
      "  Calculating graph and diffusion operator...\n"
     ]
    },
    {
     "name": "stderr",
     "output_type": "stream",
     "text": [
      "/Library/Frameworks/Python.framework/Versions/3.7/lib/python3.7/site-packages/magic/magic.py:376: UserWarning: Input matrix contains unexpressed genes. Please remove them prior to running MAGIC.\n",
      "  warnings.warn(\"Input matrix contains unexpressed genes. \"\n"
     ]
    },
    {
     "name": "stdout",
     "output_type": "stream",
     "text": [
      "    Calculating PCA...\n",
      "    Calculated PCA in 4.42 seconds.\n",
      "    Calculating KNN search...\n",
      "    Calculated KNN search in 0.54 seconds.\n",
      "    Calculating affinities...\n",
      "    Calculated affinities in 0.53 seconds.\n",
      "  Calculated graph and diffusion operator in 5.77 seconds.\n",
      "  Calculating imputation...\n",
      "    Automatically selected t = 13\n",
      "  Calculated imputation in 0.79 seconds.\n",
      "Calculated MAGIC in 7.63 seconds.\n",
      "HIV1_CSF.csv\n",
      "Calculating MAGIC...\n",
      "  Running MAGIC on 756 cells and 18507 genes.\n",
      "  Calculating graph and diffusion operator...\n",
      "    Calculating PCA...\n"
     ]
    },
    {
     "name": "stderr",
     "output_type": "stream",
     "text": [
      "/Library/Frameworks/Python.framework/Versions/3.7/lib/python3.7/site-packages/magic/magic.py:376: UserWarning: Input matrix contains unexpressed genes. Please remove them prior to running MAGIC.\n",
      "  warnings.warn(\"Input matrix contains unexpressed genes. \"\n"
     ]
    },
    {
     "name": "stdout",
     "output_type": "stream",
     "text": [
      "    Calculated PCA in 1.07 seconds.\n",
      "    Calculating KNN search...\n",
      "    Calculated KNN search in 0.09 seconds.\n",
      "    Calculating affinities...\n",
      "    Calculated affinities in 0.10 seconds.\n",
      "  Calculated graph and diffusion operator in 1.30 seconds.\n",
      "  Calculating imputation...\n",
      "    Automatically selected t = 10\n",
      "  Calculated imputation in 0.17 seconds.\n",
      "Calculated MAGIC in 1.75 seconds.\n",
      "HIV2_Bld.csv\n",
      "Calculating MAGIC...\n",
      "  Running MAGIC on 2825 cells and 22306 genes.\n",
      "  Calculating graph and diffusion operator...\n"
     ]
    },
    {
     "name": "stderr",
     "output_type": "stream",
     "text": [
      "/Library/Frameworks/Python.framework/Versions/3.7/lib/python3.7/site-packages/magic/magic.py:376: UserWarning: Input matrix contains unexpressed genes. Please remove them prior to running MAGIC.\n",
      "  warnings.warn(\"Input matrix contains unexpressed genes. \"\n"
     ]
    },
    {
     "name": "stdout",
     "output_type": "stream",
     "text": [
      "    Calculating PCA...\n",
      "    Calculated PCA in 6.63 seconds.\n",
      "    Calculating KNN search...\n",
      "    Calculated KNN search in 1.18 seconds.\n",
      "    Calculating affinities...\n",
      "    Calculated affinities in 2.07 seconds.\n",
      "  Calculated graph and diffusion operator in 10.40 seconds.\n",
      "  Calculating imputation...\n",
      "    Automatically selected t = 11\n",
      "  Calculated imputation in 1.28 seconds.\n",
      "Calculated MAGIC in 13.33 seconds.\n",
      "HIV2_CSF.csv\n",
      "Calculating MAGIC...\n",
      "  Running MAGIC on 1964 cells and 21918 genes.\n",
      "  Calculating graph and diffusion operator...\n",
      "    Calculating PCA...\n"
     ]
    },
    {
     "name": "stderr",
     "output_type": "stream",
     "text": [
      "/Library/Frameworks/Python.framework/Versions/3.7/lib/python3.7/site-packages/magic/magic.py:376: UserWarning: Input matrix contains unexpressed genes. Please remove them prior to running MAGIC.\n",
      "  warnings.warn(\"Input matrix contains unexpressed genes. \"\n"
     ]
    },
    {
     "name": "stdout",
     "output_type": "stream",
     "text": [
      "    Calculated PCA in 3.85 seconds.\n",
      "    Calculating KNN search...\n",
      "    Calculated KNN search in 0.55 seconds.\n",
      "    Calculating affinities...\n",
      "    Calculated affinities in 1.00 seconds.\n",
      "  Calculated graph and diffusion operator in 5.66 seconds.\n",
      "  Calculating imputation...\n",
      "    Automatically selected t = 17\n",
      "  Calculated imputation in 1.21 seconds.\n",
      "Calculated MAGIC in 7.75 seconds.\n",
      "HIV3_CSF.csv\n",
      "Calculating MAGIC...\n",
      "  Running MAGIC on 1476 cells and 21034 genes.\n",
      "  Calculating graph and diffusion operator...\n",
      "    Calculating PCA...\n"
     ]
    },
    {
     "name": "stderr",
     "output_type": "stream",
     "text": [
      "/Library/Frameworks/Python.framework/Versions/3.7/lib/python3.7/site-packages/magic/magic.py:376: UserWarning: Input matrix contains unexpressed genes. Please remove them prior to running MAGIC.\n",
      "  warnings.warn(\"Input matrix contains unexpressed genes. \"\n"
     ]
    },
    {
     "name": "stdout",
     "output_type": "stream",
     "text": [
      "    Calculated PCA in 2.93 seconds.\n",
      "    Calculating KNN search...\n",
      "    Calculated KNN search in 0.36 seconds.\n",
      "    Calculating affinities...\n",
      "    Calculated affinities in 0.57 seconds.\n",
      "  Calculated graph and diffusion operator in 4.01 seconds.\n",
      "  Calculating imputation...\n",
      "    Automatically selected t = 12\n",
      "  Calculated imputation in 0.55 seconds.\n",
      "Calculated MAGIC in 5.19 seconds.\n",
      "Uninfected1_CSF.csv\n",
      "Calculating MAGIC...\n",
      "  Running MAGIC on 268 cells and 18323 genes.\n",
      "  Calculating graph and diffusion operator...\n",
      "    Calculating PCA...\n"
     ]
    },
    {
     "name": "stderr",
     "output_type": "stream",
     "text": [
      "/Library/Frameworks/Python.framework/Versions/3.7/lib/python3.7/site-packages/magic/magic.py:376: UserWarning: Input matrix contains unexpressed genes. Please remove them prior to running MAGIC.\n",
      "  warnings.warn(\"Input matrix contains unexpressed genes. \"\n"
     ]
    },
    {
     "name": "stdout",
     "output_type": "stream",
     "text": [
      "    Calculated PCA in 0.56 seconds.\n",
      "    Calculating KNN search...\n",
      "    Calculated KNN search in 0.02 seconds.\n",
      "    Calculating affinities...\n",
      "  Calculated graph and diffusion operator in 0.60 seconds.\n",
      "  Calculating imputation...\n",
      "    Automatically selected t = 7\n",
      "  Calculated imputation in 0.05 seconds.\n",
      "Calculated MAGIC in 0.76 seconds.\n",
      "Uninfected2_CSF.csv\n",
      "Calculating MAGIC...\n",
      "  Running MAGIC on 461 cells and 18054 genes.\n",
      "  Calculating graph and diffusion operator...\n",
      "    Calculating PCA...\n"
     ]
    },
    {
     "name": "stderr",
     "output_type": "stream",
     "text": [
      "/Library/Frameworks/Python.framework/Versions/3.7/lib/python3.7/site-packages/magic/magic.py:376: UserWarning: Input matrix contains unexpressed genes. Please remove them prior to running MAGIC.\n",
      "  warnings.warn(\"Input matrix contains unexpressed genes. \"\n"
     ]
    },
    {
     "name": "stdout",
     "output_type": "stream",
     "text": [
      "    Calculated PCA in 0.77 seconds.\n",
      "    Calculating KNN search...\n",
      "    Calculated KNN search in 0.04 seconds.\n",
      "    Calculating affinities...\n",
      "    Calculated affinities in 0.03 seconds.\n",
      "  Calculated graph and diffusion operator in 0.87 seconds.\n",
      "  Calculating imputation...\n",
      "    Automatically selected t = 9\n",
      "  Calculated imputation in 0.08 seconds.\n",
      "Calculated MAGIC in 1.13 seconds.\n"
     ]
    }
   ],
   "source": [
    "# loop through all the samples and compute MAGIC\n",
    "for i in range(0, 7):\n",
    "    \n",
    "    print(file_names[i])\n",
    "    file_name = file_names[i]\n",
    "    dat = scprep.io.load_csv(path + file_name)\n",
    "    dat = dat.transpose()\n",
    "    \n",
    "    # Remove empty columns and rows\n",
    "    dat = scprep.filter.filter_empty_cells(dat)\n",
    "    dat = scprep.filter.filter_empty_genes(dat)\n",
    "    \n",
    "    # Filter out genes expressed in less than 3 cells\n",
    "    dat = scprep.filter.filter_rare_genes(dat, cutoff=0, min_cells=3)\n",
    "    \n",
    "    # Filter by library size anything above 500- keep\n",
    "    dat = scprep.filter.filter_library_size(dat, cutoff=500, keep_cells = 'above')\n",
    "    \n",
    "    # Filter by library size anything below 2500- keep\n",
    "    dat = scprep.filter.filter_library_size(dat, cutoff=2500, keep_cells = 'below')\n",
    "\n",
    "    # Filter by mitochondrial genes- anything with >90% mt genes- discard\n",
    "    mt_genes = scprep.select.get_gene_set(dat, starts_with=\"MT\")\n",
    "    dat = scprep.filter.filter_gene_set_expression(dat, genes=mt_genes,\n",
    "                                                percentile=90)\n",
    "    \n",
    "    #normalize and transform data\n",
    "    dat = scprep.normalize.library_size_normalize(dat)\n",
    "    dat = scprep.transform.sqrt(dat)\n",
    "    dat.head()\n",
    "    \n",
    "    # save data after preprocessing and before MAGIC\n",
    "    out_path = '../../data/imputation_intermediate/filtered_data/'\n",
    "    out_name = out_path + file_name\n",
    "    dat.to_csv(out_name)\n",
    "    \n",
    "    # do magic\n",
    "    magic_op = magic.MAGIC()\n",
    "    dat_magic=magic_op.fit_transform(dat)\n",
    "    \n",
    "    # save csv file\n",
    "    out_path = '../../data/imputation_intermediate/magic_all_samples/'\n",
    "    out_name = out_path + file_name\n",
    "    dat_magic.to_csv(out_name)"
   ]
  },
  {
   "cell_type": "code",
   "execution_count": null,
   "metadata": {},
   "outputs": [],
   "source": []
  }
 ],
 "metadata": {
  "kernelspec": {
   "display_name": "Python 3",
   "language": "python",
   "name": "python3"
  },
  "language_info": {
   "codemirror_mode": {
    "name": "ipython",
    "version": 3
   },
   "file_extension": ".py",
   "mimetype": "text/x-python",
   "name": "python",
   "nbconvert_exporter": "python",
   "pygments_lexer": "ipython3",
   "version": "3.7.1"
  }
 },
 "nbformat": 4,
 "nbformat_minor": 2
}
