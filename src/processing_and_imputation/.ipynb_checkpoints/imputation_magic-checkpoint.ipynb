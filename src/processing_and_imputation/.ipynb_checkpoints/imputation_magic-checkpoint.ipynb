{
 "cells": [
  {
   "cell_type": "markdown",
   "metadata": {},
   "source": [
    "# Processing and Imputation\n",
    "The purpose of this Jupyter Notebook is to run the same preprocessing steps and MAGIC imputation on all 7 files from Farhadian, 2018."
   ]
  },
  {
   "cell_type": "markdown",
   "metadata": {},
   "source": [
    "### Part 0: Importing Packages"
   ]
  },
  {
   "cell_type": "code",
   "execution_count": 16,
   "metadata": {},
   "outputs": [],
   "source": [
    "# import statements\n",
    "import magic\n",
    "import scprep\n",
    "\n",
    "import numpy as np\n",
    "import pandas as pd\n",
    "import matplotlib\n",
    "import matplotlib.pyplot as plt\n",
    "%matplotlib inline\n",
    "\n",
    "import gzip\n",
    "import csv\n",
    "\n",
    "from sklearn.manifold import TSNE\n",
    "from scprep.io.csv import load_csv"
   ]
  },
  {
   "cell_type": "markdown",
   "metadata": {},
   "source": [
    "### Part 1: Locating Data"
   ]
  },
  {
   "cell_type": "code",
   "execution_count": 17,
   "metadata": {},
   "outputs": [],
   "source": [
    "path = '../../data/raw_data/'\n",
    "file_names = ['HIV1_Bld.csv', 'HIV1_CSF.csv', 'HIV2_Bld.csv', 'HIV2_CSF.csv','HIV3_CSF.csv', 'Uninfected1_CSF.csv', 'Uninfected2_CSF.csv']"
   ]
  },
  {
   "cell_type": "markdown",
   "metadata": {},
   "source": [
    "### Part 2: Filtering and Performing MAGIC"
   ]
  },
  {
   "cell_type": "code",
   "execution_count": 18,
   "metadata": {},
   "outputs": [
    {
     "name": "stdout",
     "output_type": "stream",
     "text": [
      "HIV1_Bld.csv\n",
      "Calculating MAGIC...\n",
      "  Running MAGIC on 2830 cells and 22935 genes.\n",
      "  Calculating graph and diffusion operator...\n"
     ]
    },
    {
     "name": "stderr",
     "output_type": "stream",
     "text": [
      "/Library/Frameworks/Python.framework/Versions/3.7/lib/python3.7/site-packages/magic/magic.py:376: UserWarning: Input matrix contains unexpressed genes. Please remove them prior to running MAGIC.\n",
      "  warnings.warn(\"Input matrix contains unexpressed genes. \"\n"
     ]
    },
    {
     "name": "stdout",
     "output_type": "stream",
     "text": [
      "    Calculating PCA...\n",
      "    Calculated PCA in 6.26 seconds.\n",
      "    Calculating KNN search...\n",
      "    Calculated KNN search in 0.99 seconds.\n",
      "    Calculating affinities...\n",
      "    Calculated affinities in 0.93 seconds.\n",
      "  Calculated graph and diffusion operator in 8.58 seconds.\n",
      "  Calculating imputation...\n",
      "    Automatically selected t = 11\n",
      "  Calculated imputation in 0.69 seconds.\n",
      "Calculated MAGIC in 10.54 seconds.\n",
      "HIV1_CSF.csv\n",
      "Calculating MAGIC...\n",
      "  Running MAGIC on 1262 cells and 18507 genes.\n",
      "  Calculating graph and diffusion operator...\n",
      "    Calculating PCA...\n"
     ]
    },
    {
     "name": "stderr",
     "output_type": "stream",
     "text": [
      "/Library/Frameworks/Python.framework/Versions/3.7/lib/python3.7/site-packages/magic/magic.py:376: UserWarning: Input matrix contains unexpressed genes. Please remove them prior to running MAGIC.\n",
      "  warnings.warn(\"Input matrix contains unexpressed genes. \"\n"
     ]
    },
    {
     "name": "stdout",
     "output_type": "stream",
     "text": [
      "    Calculated PCA in 2.12 seconds.\n",
      "    Calculating KNN search...\n",
      "    Calculated KNN search in 0.21 seconds.\n",
      "    Calculating affinities...\n",
      "    Calculated affinities in 0.20 seconds.\n",
      "  Calculated graph and diffusion operator in 2.65 seconds.\n",
      "  Calculating imputation...\n",
      "    Automatically selected t = 11\n",
      "  Calculated imputation in 0.30 seconds.\n",
      "Calculated MAGIC in 3.38 seconds.\n",
      "HIV2_Bld.csv\n",
      "Calculating MAGIC...\n",
      "  Running MAGIC on 4024 cells and 22306 genes.\n",
      "  Calculating graph and diffusion operator...\n",
      "    Calculating PCA...\n",
      "    Calculated PCA in 6.79 seconds.\n",
      "    Calculating KNN search...\n",
      "    Calculated KNN search in 1.93 seconds.\n",
      "    Calculating affinities...\n",
      "    Calculated affinities in 2.94 seconds.\n",
      "  Calculated graph and diffusion operator in 12.23 seconds.\n",
      "  Calculating imputation...\n",
      "    Automatically selected t = 12\n",
      "  Calculated imputation in 1.63 seconds.\n",
      "Calculated MAGIC in 15.67 seconds.\n",
      "HIV2_CSF.csv\n",
      "Calculating MAGIC...\n",
      "  Running MAGIC on 3048 cells and 21918 genes.\n",
      "  Calculating graph and diffusion operator...\n"
     ]
    },
    {
     "name": "stderr",
     "output_type": "stream",
     "text": [
      "/Library/Frameworks/Python.framework/Versions/3.7/lib/python3.7/site-packages/magic/magic.py:376: UserWarning: Input matrix contains unexpressed genes. Please remove them prior to running MAGIC.\n",
      "  warnings.warn(\"Input matrix contains unexpressed genes. \"\n"
     ]
    },
    {
     "name": "stdout",
     "output_type": "stream",
     "text": [
      "    Calculating PCA...\n",
      "    Calculated PCA in 5.10 seconds.\n",
      "    Calculating KNN search...\n",
      "    Calculated KNN search in 1.11 seconds.\n",
      "    Calculating affinities...\n",
      "    Calculated affinities in 2.00 seconds.\n",
      "  Calculated graph and diffusion operator in 8.67 seconds.\n",
      "  Calculating imputation...\n",
      "    Automatically selected t = 15\n",
      "  Calculated imputation in 1.52 seconds.\n",
      "Calculated MAGIC in 11.46 seconds.\n",
      "HIV3_CSF.csv\n",
      "Calculating MAGIC...\n",
      "  Running MAGIC on 2401 cells and 21034 genes.\n",
      "  Calculating graph and diffusion operator...\n"
     ]
    },
    {
     "name": "stderr",
     "output_type": "stream",
     "text": [
      "/Library/Frameworks/Python.framework/Versions/3.7/lib/python3.7/site-packages/magic/magic.py:376: UserWarning: Input matrix contains unexpressed genes. Please remove them prior to running MAGIC.\n",
      "  warnings.warn(\"Input matrix contains unexpressed genes. \"\n"
     ]
    },
    {
     "name": "stdout",
     "output_type": "stream",
     "text": [
      "    Calculating PCA...\n",
      "    Calculated PCA in 3.84 seconds.\n",
      "    Calculating KNN search...\n",
      "    Calculated KNN search in 0.68 seconds.\n",
      "    Calculating affinities...\n",
      "    Calculated affinities in 1.25 seconds.\n",
      "  Calculated graph and diffusion operator in 6.15 seconds.\n",
      "  Calculating imputation...\n",
      "    Automatically selected t = 13\n",
      "  Calculated imputation in 1.19 seconds.\n",
      "Calculated MAGIC in 8.24 seconds.\n",
      "Uninfected1_CSF.csv\n",
      "Calculating MAGIC...\n",
      "  Running MAGIC on 400 cells and 18323 genes.\n",
      "  Calculating graph and diffusion operator...\n",
      "    Calculating PCA...\n"
     ]
    },
    {
     "name": "stderr",
     "output_type": "stream",
     "text": [
      "/Library/Frameworks/Python.framework/Versions/3.7/lib/python3.7/site-packages/magic/magic.py:376: UserWarning: Input matrix contains unexpressed genes. Please remove them prior to running MAGIC.\n",
      "  warnings.warn(\"Input matrix contains unexpressed genes. \"\n"
     ]
    },
    {
     "name": "stdout",
     "output_type": "stream",
     "text": [
      "    Calculated PCA in 0.81 seconds.\n",
      "    Calculating KNN search...\n",
      "    Calculated KNN search in 0.03 seconds.\n",
      "    Calculating affinities...\n",
      "    Calculated affinities in 0.01 seconds.\n",
      "  Calculated graph and diffusion operator in 0.89 seconds.\n",
      "  Calculating imputation...\n",
      "    Automatically selected t = 11\n",
      "  Calculated imputation in 0.09 seconds.\n",
      "Calculated MAGIC in 1.16 seconds.\n",
      "Uninfected2_CSF.csv\n",
      "Calculating MAGIC...\n",
      "  Running MAGIC on 672 cells and 18054 genes.\n",
      "  Calculating graph and diffusion operator...\n",
      "    Calculating PCA...\n"
     ]
    },
    {
     "name": "stderr",
     "output_type": "stream",
     "text": [
      "/Library/Frameworks/Python.framework/Versions/3.7/lib/python3.7/site-packages/magic/magic.py:376: UserWarning: Input matrix contains unexpressed genes. Please remove them prior to running MAGIC.\n",
      "  warnings.warn(\"Input matrix contains unexpressed genes. \"\n"
     ]
    },
    {
     "name": "stdout",
     "output_type": "stream",
     "text": [
      "    Calculated PCA in 0.98 seconds.\n",
      "    Calculating KNN search...\n",
      "    Calculated KNN search in 0.08 seconds.\n",
      "    Calculating affinities...\n",
      "    Calculated affinities in 0.08 seconds.\n",
      "  Calculated graph and diffusion operator in 1.18 seconds.\n",
      "  Calculating imputation...\n",
      "    Automatically selected t = 12\n",
      "  Calculated imputation in 0.18 seconds.\n",
      "Calculated MAGIC in 1.61 seconds.\n"
     ]
    }
   ],
   "source": [
    "# loop through all the samples and compute MAGIC\n",
    "for i in range(0, 7):\n",
    "    \n",
    "    print(file_names[i])\n",
    "    file_name = file_names[i]\n",
    "    dat = scprep.io.load_csv(path + file_name)\n",
    "    dat = dat.transpose()\n",
    "    \n",
    "    # Remove empty columns and rows\n",
    "    dat = scprep.filter.filter_empty_cells(dat)\n",
    "    dat = scprep.filter.filter_empty_genes(dat)\n",
    "    \n",
    "    # Filter out genes expressed in less than 3 cells\n",
    "    dat = scprep.filter.filter_rare_genes(dat, cutoff=0, min_cells=3)\n",
    "    \n",
    "    # Filter by library size anything above 500- keep\n",
    "    dat = scprep.filter.filter_library_size(dat, cutoff=500, keep_cells = 'above')\n",
    "    \n",
    "    #normalize and transform data\n",
    "    dat = scprep.normalize.library_size_normalize(dat)\n",
    "    dat = scprep.transform.sqrt(dat)\n",
    "    dat.head()\n",
    "    \n",
    "    # save data after preprocessing and before MAGIC\n",
    "    out_path = '../../data/filtered_data/'\n",
    "    out_name = out_path + file_name\n",
    "    dat.to_csv(out_name)\n",
    "    \n",
    "    # do magic\n",
    "    magic_op = magic.MAGIC()\n",
    "    dat_magic=magic_op.fit_transform(dat)\n",
    "    \n",
    "    # save csv file\n",
    "    out_path = '../../data/imputation_intermediate/magic_all_samples/'\n",
    "    out_name = out_path + file_name\n",
    "    dat_magic.to_csv(out_name)"
   ]
  },
  {
   "cell_type": "code",
   "execution_count": null,
   "metadata": {},
   "outputs": [],
   "source": []
  }
 ],
 "metadata": {
  "kernelspec": {
   "display_name": "Python 3",
   "language": "python",
   "name": "python3"
  },
  "language_info": {
   "codemirror_mode": {
    "name": "ipython",
    "version": 3
   },
   "file_extension": ".py",
   "mimetype": "text/x-python",
   "name": "python",
   "nbconvert_exporter": "python",
   "pygments_lexer": "ipython3",
   "version": "3.7.1"
  }
 },
 "nbformat": 4,
 "nbformat_minor": 2
}
