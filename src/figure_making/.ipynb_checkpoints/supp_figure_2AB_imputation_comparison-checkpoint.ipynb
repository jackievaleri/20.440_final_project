{
 "cells": [
  {
   "cell_type": "markdown",
   "metadata": {},
   "source": [
    "# Creating Supplementary Figure 1 to Compare Imputations\n",
    "The purpose of this Jupyter Notebook is to compare the raw filtered data with the imputed data from SAVER, scImpute, and MAGIC."
   ]
  },
  {
   "cell_type": "markdown",
   "metadata": {},
   "source": [
    "### Part 0: Importing Packges"
   ]
  },
  {
   "cell_type": "code",
   "execution_count": 1,
   "metadata": {},
   "outputs": [],
   "source": [
    "# import statements\n",
    "import magic\n",
    "import scprep\n",
    "import csv\n",
    "\n",
    "import numpy as np\n",
    "import pandas as pd\n",
    "import matplotlib\n",
    "import matplotlib.pyplot as plt\n",
    "%matplotlib inline\n",
    "\n",
    "from sklearn.decomposition import PCA\n",
    "from sklearn.manifold import TSNE\n",
    "from scprep.io.csv import load_csv"
   ]
  },
  {
   "cell_type": "markdown",
   "metadata": {},
   "source": [
    "### Part 1: Loading in Data"
   ]
  },
  {
   "cell_type": "code",
   "execution_count": 2,
   "metadata": {},
   "outputs": [],
   "source": [
    "# load raw filtered data\n",
    "dat = load_csv('../../data/imputation_intermediate/filtered_data/HIV1_Bld.csv')"
   ]
  },
  {
   "cell_type": "code",
   "execution_count": 3,
   "metadata": {},
   "outputs": [],
   "source": [
    "# load scimpute data (preprocessed with R script)\n",
    "scimpute_dat = load_csv('../../data/imputation_intermediate/different_imputations/scimpute_hiv1.csv')\n",
    "scimpute_dat = scimpute_dat.transpose()"
   ]
  },
  {
   "cell_type": "code",
   "execution_count": null,
   "metadata": {},
   "outputs": [],
   "source": [
    "# load SAVER data (preprocessed with R script)\n",
    "saver_dat = load_csv('../../data/imputation_intermediate/different_imputations/saver_hiv1.csv')\n",
    "saver_dat = saver_dat.transpose()"
   ]
  },
  {
   "cell_type": "code",
   "execution_count": null,
   "metadata": {},
   "outputs": [
    {
     "name": "stdout",
     "output_type": "stream",
     "text": [
      "Calculating MAGIC...\n",
      "  Running MAGIC on 2830 cells and 22935 genes.\n",
      "  Calculating graph and diffusion operator...\n"
     ]
    },
    {
     "name": "stderr",
     "output_type": "stream",
     "text": [
      "/Library/Frameworks/Python.framework/Versions/3.7/lib/python3.7/site-packages/magic/magic.py:376: UserWarning: Input matrix contains unexpressed genes. Please remove them prior to running MAGIC.\n",
      "  warnings.warn(\"Input matrix contains unexpressed genes. \"\n"
     ]
    },
    {
     "name": "stdout",
     "output_type": "stream",
     "text": [
      "    Calculating PCA...\n",
      "    Calculated PCA in 5.46 seconds.\n",
      "    Calculating KNN search...\n"
     ]
    }
   ],
   "source": [
    "# compute MAGIC here, so we have magic_op to do PCA with\n",
    "magic_op = magic.MAGIC()\n",
    "\n",
    "# compute MAGIC PCA\n",
    "dat_magic=magic_op.fit_transform(dat)"
   ]
  },
  {
   "cell_type": "markdown",
   "metadata": {},
   "source": [
    "### Part 2: PCA on Raw and Imputed Matrices"
   ]
  },
  {
   "cell_type": "code",
   "execution_count": null,
   "metadata": {},
   "outputs": [],
   "source": [
    "# confirm all four matrices are the same shape\n",
    "print(dat.shape)\n",
    "print(scimpute_dat.shape)\n",
    "print(saver_dat.shape)\n",
    "print(dat_magic.shape)"
   ]
  },
  {
   "cell_type": "code",
   "execution_count": null,
   "metadata": {},
   "outputs": [],
   "source": [
    "# compute raw PCA\n",
    "dat_pca = PCA().fit_transform(np.array(dat))"
   ]
  },
  {
   "cell_type": "code",
   "execution_count": null,
   "metadata": {},
   "outputs": [],
   "source": [
    "# compute scimpute PCA\n",
    "scimpute_pca = PCA().fit_transform(np.array(scimpute_dat))"
   ]
  },
  {
   "cell_type": "code",
   "execution_count": null,
   "metadata": {},
   "outputs": [],
   "source": [
    "# compute SAVER PCA\n",
    "saver_pca = PCA().fit_transform(np.array(saver_dat))"
   ]
  },
  {
   "cell_type": "code",
   "execution_count": null,
   "metadata": {},
   "outputs": [],
   "source": [
    "# get color map for raw matrix\n",
    "cd14_dat = dat.loc[:, 'CD14']\n",
    "cd14_dat_list = np.array(cd14_dat.values.tolist())\n",
    "cd14_dat_list = np.reshape(cd14_dat_list, [1669, 1])\n",
    "dat_col = np.transpose(cd14_dat_list)\n",
    "\n",
    "# get color map for scimpute matrix\n",
    "cd14_scimpute = scimpute_dat.loc[:, 'CD14']\n",
    "cd14_scimpute_list = np.array(cd14_scimpute.values.tolist())\n",
    "cd14_scimpute_list = np.reshape(cd14_scimpute_list, [1669, 1])\n",
    "scimpute_col = np.transpose(cd14_scimpute_list)\n",
    "\n",
    "# get color map for saver matrix\n",
    "cd14 = saver_dat.iloc[:,3240]\n",
    "\n",
    "# get color map for magic matrix\n",
    "cd14_magic = dat_magic.loc[:, 'CD14']\n",
    "cd14_magic_list = np.array(cd14_magic.values.tolist())\n",
    "cd14_magic_list = np.reshape(cd14_magic_list, [1669, 1])\n",
    "magic_col = np.transpose(cd14_magic_list)"
   ]
  },
  {
   "cell_type": "code",
   "execution_count": null,
   "metadata": {},
   "outputs": [],
   "source": [
    "# plot comparison\n",
    "fig, (ax1, ax2, ax3, ax4) = plt.subplots(4,1, figsize=(8, 24), dpi=800)\n",
    "\n",
    "scprep.plot.scatter2d(dat_pca, c=dat_col, \n",
    "                      label_prefix=\"PC\", title='PCA on Raw Data',\n",
    "                      legend_title=\"CD14\", ax=ax1, ticks=False)\n",
    "\n",
    "scprep.plot.scatter2d(scimpute_pca, c=scimpute_col,\n",
    "                      label_prefix=\"PC\", title='PCA with scImpute',\n",
    "                      legend_title=\"CD14\", ax=ax2, ticks=False)\n",
    "\n",
    "scprep.plot.scatter2d(saver_pca, c=cd14,\n",
    "                      label_prefix=\"PC\", title='PCA with SAVER',\n",
    "                      legend_title=\"CD14\", ax=ax3, ticks=False)\n",
    "\n",
    "scprep.plot.scatter2d(dat_magic, c=magic_col, \n",
    "                      label_prefix=\"PC\", title='PCA with MAGIC',\n",
    "                      legend_title=\"CD14\", ax=ax4, ticks=False)\n",
    "\n",
    "plt.savefig('../../output/figures/supp_figure_2A_comparison_imputation_PCA.png')\n",
    "plt.show()"
   ]
  },
  {
   "cell_type": "markdown",
   "metadata": {},
   "source": [
    "### Part 3: t-SNE on Raw and Imputed Matrices"
   ]
  },
  {
   "cell_type": "code",
   "execution_count": null,
   "metadata": {},
   "outputs": [],
   "source": [
    "# magic t-sne\n",
    "tSNE_magic=TSNE(n_components=2).fit_transform(dat_magic)"
   ]
  },
  {
   "cell_type": "code",
   "execution_count": null,
   "metadata": {},
   "outputs": [],
   "source": [
    "# raw t-sne\n",
    "tSNE_dat=TSNE(n_components=2).fit_transform(dat)"
   ]
  },
  {
   "cell_type": "code",
   "execution_count": null,
   "metadata": {},
   "outputs": [],
   "source": [
    "# scimpute t-sne\n",
    "tSNE_scimpute=TSNE(n_components=2).fit_transform(scimpute_dat)"
   ]
  },
  {
   "cell_type": "code",
   "execution_count": null,
   "metadata": {},
   "outputs": [],
   "source": [
    "# saver t-sne\n",
    "tSNE_saver=TSNE(n_components=2).fit_transform(saver_dat)"
   ]
  },
  {
   "cell_type": "code",
   "execution_count": null,
   "metadata": {},
   "outputs": [],
   "source": [
    "# plot comparison\n",
    "fig, (ax1, ax2, ax3, ax4) = plt.subplots(4,1, figsize=(8, 24), dpi=800)\n",
    "\n",
    "scprep.plot.scatter2d(tSNE_dat, c=dat_col, \n",
    "                      label_prefix=\"tSNE\", title='tSNE on Raw Data',\n",
    "                      legend_title=\"CD14\", ax=ax1, ticks=False)\n",
    "\n",
    "scprep.plot.scatter2d(tSNE_scimpute, c=scimpute_col, \n",
    "                      label_prefix=\"tSNE\", title='tSNE with scImpute',\n",
    "                      legend_title=\"CD14\", ax=ax2, ticks=False)\n",
    "\n",
    "scprep.plot.scatter2d(tSNE_saver, c=cd14, \n",
    "                      label_prefix=\"tSNE\", title='tSNE with SAVER',\n",
    "                      legend_title=\"CD14\", ax=ax3, ticks=False)\n",
    "\n",
    "scprep.plot.scatter2d(tSNE_magic, c=magic_col, \n",
    "                      label_prefix=\"tSNE\", title='tSNE with MAGIC',\n",
    "                      legend_title=\"CD14\", ax=ax4, ticks=False)\n",
    "\n",
    "plt.savefig('../../output/figures/supp_figure_2B_comparison_imputation_tsne.png')\n",
    "plt.show()"
   ]
  },
  {
   "cell_type": "code",
   "execution_count": null,
   "metadata": {},
   "outputs": [],
   "source": []
  }
 ],
 "metadata": {
  "kernelspec": {
   "display_name": "Python 3",
   "language": "python",
   "name": "python3"
  },
  "language_info": {
   "codemirror_mode": {
    "name": "ipython",
    "version": 3
   },
   "file_extension": ".py",
   "mimetype": "text/x-python",
   "name": "python",
   "nbconvert_exporter": "python",
   "pygments_lexer": "ipython3",
   "version": "3.7.1"
  }
 },
 "nbformat": 4,
 "nbformat_minor": 2
}
