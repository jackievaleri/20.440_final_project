{
 "cells": [
  {
   "cell_type": "markdown",
   "metadata": {},
   "source": [
    "# Creating Supplementary Figure 2 to Show Cell Type Markers on MAGIC Data\n",
    "The purpose of this Jupyter Notebook is to show that the cell type markers used in Farhadian 2018 are visible on different clusters of the MAGIC-imputed data."
   ]
  },
  {
   "cell_type": "markdown",
   "metadata": {},
   "source": [
    "### Part 0: Importing Packages"
   ]
  },
  {
   "cell_type": "code",
   "execution_count": 1,
   "metadata": {},
   "outputs": [],
   "source": [
    "# import statements\n",
    "import magic\n",
    "import scprep\n",
    "\n",
    "import numpy as np\n",
    "import pandas as pd\n",
    "import matplotlib\n",
    "import matplotlib.pyplot as plt\n",
    "%matplotlib inline\n",
    "\n",
    "import gzip\n",
    "import csv\n",
    "\n",
    "from sklearn.manifold import TSNE\n",
    "from scprep.io.csv import load_csv"
   ]
  },
  {
   "cell_type": "markdown",
   "metadata": {},
   "source": [
    "### Part 1: Loading Data"
   ]
  },
  {
   "cell_type": "code",
   "execution_count": 2,
   "metadata": {},
   "outputs": [],
   "source": [
    "# read in geo objects from local data directory\n",
    "path = \"../../data/raw_data/\"\n",
    "file_names = ['HIV1_Bld.csv', 'HIV1_CSF.csv', 'HIV2_Bld.csv', 'HIV2_CSF.csv','HIV3_CSF.csv', 'Uninfected1_CSF.csv', 'Uninfected2_CSF.csv']"
   ]
  },
  {
   "cell_type": "code",
   "execution_count": 3,
   "metadata": {},
   "outputs": [],
   "source": [
    "# choose the sample to use for the representative plot\n",
    "file_to_choose= 0 # one representative sample"
   ]
  },
  {
   "cell_type": "markdown",
   "metadata": {},
   "source": [
    "### Part 2: Filtering the Data\n",
    "This is included in case this file is run before the imputation_magic.ipynb, and for completeness to showcase how filtering is done."
   ]
  },
  {
   "cell_type": "code",
   "execution_count": null,
   "metadata": {},
   "outputs": [],
   "source": [
    "# we chose the first sample\n",
    "file_name = file_names[file_to_choose]\n",
    "dat = scprep.io.load_csv(path + file_name)\n",
    "dat = dat.transpose()\n",
    "    \n",
    "# Remove empty columns and rows\n",
    "dat = scprep.filter.filter_empty_cells(dat)\n",
    "dat = scprep.filter.filter_empty_genes(dat)\n",
    "\n",
    "# Filter out genes expressed in less than 3 cells\n",
    "dat = scprep.filter.filter_rare_genes(dat, cutoff=0, min_cells=3)\n",
    "    \n",
    "# Filter by library size anything above 500- keep\n",
    "dat = scprep.filter.filter_library_size(dat, cutoff=500, keep_cells = 'above')\n",
    "    \n",
    "#normalize and transform data\n",
    "dat = scprep.normalize.library_size_normalize(dat)\n",
    "dat = scprep.transform.sqrt(dat)\n",
    "dat.head()\n",
    "    \n",
    "# save data after preprocessing and before MAGIC\n",
    "out_path = '../../data/imputation_intermediate/filtered_data/'\n",
    "out_name = out_path + file_name\n",
    "dat.to_csv(out_name)"
   ]
  },
  {
   "cell_type": "markdown",
   "metadata": {},
   "source": [
    "### Part 3: Computing MAGIC\n",
    "Again, this is included in case this file is run before the imputation_magic.ipynb, and for completeness to showcase how filtering is done."
   ]
  },
  {
   "cell_type": "code",
   "execution_count": null,
   "metadata": {},
   "outputs": [],
   "source": [
    "# compute MAGIC\n",
    "magic_op = magic.MAGIC()\n",
    "dat_magic=magic_op.fit_transform(dat)\n",
    "    \n",
    "# save csv file\n",
    "out_path = '../../data/imputation_intermediate/magic_all_samples/'\n",
    "out_name = out_path + file_name\n",
    "dat_magic.to_csv(out_name)"
   ]
  },
  {
   "cell_type": "markdown",
   "metadata": {},
   "source": [
    "### Part 4: t-SNE on MAGIC and Showcasing Markers"
   ]
  },
  {
   "cell_type": "code",
   "execution_count": null,
   "metadata": {},
   "outputs": [],
   "source": [
    "# do t-SNE on the MAGIC matrix\n",
    "tSNE_magic=TSNE(n_components=2).fit_transform(dat_magic)"
   ]
  },
  {
   "cell_type": "code",
   "execution_count": null,
   "metadata": {},
   "outputs": [],
   "source": [
    "# these marker genes from from Farhadian 2018\n",
    "marker_genes = ['TRAC', 'IL7R', 'GNLY', 'CD79A', 'MS4A1', 'IGJ', 'FCGR3A', 'CD14', 'CD1C']\n",
    "\n",
    "# plot comparison\n",
    "fig, (ax1, ax2, ax3, ax4, ax5, ax6, ax7, ax8, ax9) = plt.subplots(9,1, figsize=(12, 36), dpi=800)\n",
    "\n",
    "ax_list = [ax1, ax2, ax3, ax4, ax5, ax6, ax7, ax8, ax9]\n",
    "# plot\n",
    "for i in range(0, len(marker_genes)):\n",
    "    axis = ax_list[i]\n",
    "    scprep.plot.scatter2d(tSNE_magic, c=dat_magic[marker_genes[i]], \n",
    "                      label_prefix=\"tSNE\", title='tSNE with ' + marker_genes[i],\n",
    "                      legend_title=marker_genes[i], ax=axis, ticks=False)\n",
    "\n",
    "plt.savefig('../../output/figures/supp_figure1.png')\n",
    "plt.show()"
   ]
  },
  {
   "cell_type": "code",
   "execution_count": null,
   "metadata": {},
   "outputs": [],
   "source": []
  }
 ],
 "metadata": {
  "kernelspec": {
   "display_name": "Python 3",
   "language": "python",
   "name": "python3"
  },
  "language_info": {
   "codemirror_mode": {
    "name": "ipython",
    "version": 3
   },
   "file_extension": ".py",
   "mimetype": "text/x-python",
   "name": "python",
   "nbconvert_exporter": "python",
   "pygments_lexer": "ipython3",
   "version": "3.7.1"
  }
 },
 "nbformat": 4,
 "nbformat_minor": 2
}
